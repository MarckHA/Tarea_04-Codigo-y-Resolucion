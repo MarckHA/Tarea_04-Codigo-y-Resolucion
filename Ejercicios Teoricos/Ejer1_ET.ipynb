{
 "cells": [
  {
   "cell_type": "code",
   "execution_count": 1,
   "id": "0032d306-538b-477a-85b7-4a322d114728",
   "metadata": {
    "tags": []
   },
   "outputs": [],
   "source": [
    "import numpy as np\n",
    "def equation(x):\n",
    "    return (x**3-x-1)"
   ]
  },
  {
   "cell_type": "code",
   "execution_count": 2,
   "id": "9194ba5f-c8a2-4580-a837-df7bd63bb0e6",
   "metadata": {},
   "outputs": [],
   "source": [
    "from typing import Callable\n",
    "def sign(x: float) -> int:\n",
    "    if x > 0:\n",
    "        return 1\n",
    "    elif x < 0:\n",
    "        return -1\n",
    "    else:\n",
    "        return 0"
   ]
  },
  {
   "cell_type": "code",
   "execution_count": 3,
   "id": "3974bd10-e5e3-459f-991c-dbc17d3e76ea",
   "metadata": {
    "tags": []
   },
   "outputs": [],
   "source": [
    "def bisection(\n",
    "    a: float, b: float, *, equation: Callable[[float], float], tol: float, N: int\n",
    ") -> tuple[float, float, float, int] | None:\n",
    "    i = 1\n",
    "    assert a < b, \"a not lower than b, the interval is not valid.\"\n",
    "\n",
    "    assert (equation(a) * equation(b) < 0), \"The function does not change sign over the interval.\"\n",
    "\n",
    "    Fa = equation(a)\n",
    "    p = a # to avoid crash in i == 0.\n",
    "    for i in range(1,N+1):\n",
    "        p = a + (b - a) / 2\n",
    "        FP = equation(p)\n",
    "        if FP == 0 or (b - a) / 2 < tol:\n",
    "            return p, a, b, i\n",
    "\n",
    "        if sign(Fa) * sign(FP) > 0:\n",
    "            a = p\n",
    "            Fa = FP\n",
    "        else:\n",
    "            b = p\n",
    "    print(\"Solución no encontrada, número de iteraciones insuficiente para la tolerancia dada.\")"
   ]
  },
  {
   "cell_type": "code",
   "execution_count": 4,
   "id": "d1ea0509-94c6-4ef9-8baf-0968fb97915b",
   "metadata": {
    "tags": []
   },
   "outputs": [
    {
     "name": "stdout",
     "output_type": "stream",
     "text": [
      "Luego de 14 iteraciones la solución aproximada dentro de la presición de 1E-04 es: 1.3248\n"
     ]
    }
   ],
   "source": [
    "a = 1\n",
    "b = 2\n",
    "tol = 10**(-4)\n",
    "result = bisection(a=a,b=b,equation=equation,tol=tol,N=20)\n",
    "print(\"Luego de \"+str(result[3])+ \" iteraciones la solución aproximada dentro de la presición de \"+format(tol,\".0E\")+\" es: \"+format(result[0],\".5\")) "
   ]
  },
  {
   "cell_type": "code",
   "execution_count": null,
   "id": "9c0e83ad-93cf-43d4-b87d-ff66d1457f2e",
   "metadata": {},
   "outputs": [],
   "source": []
  }
 ],
 "metadata": {
  "kernelspec": {
   "display_name": "Python 3 (ipykernel)",
   "language": "python",
   "name": "python3"
  },
  "language_info": {
   "codemirror_mode": {
    "name": "ipython",
    "version": 3
   },
   "file_extension": ".py",
   "mimetype": "text/x-python",
   "name": "python",
   "nbconvert_exporter": "python",
   "pygments_lexer": "ipython3",
   "version": "3.11.7"
  }
 },
 "nbformat": 4,
 "nbformat_minor": 5
}
