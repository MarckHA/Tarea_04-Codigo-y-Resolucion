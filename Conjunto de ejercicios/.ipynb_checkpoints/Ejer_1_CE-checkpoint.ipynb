{
 "cells": [
  {
   "cell_type": "code",
   "execution_count": 11,
   "id": "60122409-be6f-4bce-863a-f73993e63ca7",
   "metadata": {
    "tags": []
   },
   "outputs": [],
   "source": [
    "def equation(x):\n",
    "    return (x**3-7*x**2+14*x-6)"
   ]
  },
  {
   "cell_type": "code",
   "execution_count": 2,
   "id": "3720b211-66b7-4e80-b1e8-31511f6ac4dc",
   "metadata": {
    "tags": []
   },
   "outputs": [
    {
     "data": {
      "image/png": "[encoded data removed]",
      "text/plain": [
       "<Figure size 640x480 with 1 Axes>"
      ]
     },
     "metadata": {},
     "output_type": "display_data"
    }
   ],
   "source": [
    "import numpy as np\n",
    "\n",
    "import matplotlib.pyplot as plt\n",
    "# Generate x values\n",
    "x = np.linspace(-10, 10, 200)\n",
    "\n",
    "# Calculate y values\n",
    "y = equation(x)\n",
    "# Plot the equation\n",
    "plt.plot(x, y, label = '$x^{3}-7x^{2}+14x-6$')\n",
    "plt.xlabel('x')\n",
    "plt.ylabel('y')\n",
    "plt.title('Plot of $x^{3}-7x^{2}+14x-6$')\n",
    "ax = plt.gca()\n",
    "ax.set_ylim([-2, 4])\n",
    "ax.set_xlim([0, 5])\n",
    "plt.grid(True)\n",
    "plt.legend()\n",
    "# Marca los ejes coordenados\n",
    "plt.axhline(0, color='black',linewidth=0.5)\n",
    "plt.axvline(0, color='black',linewidth=0.5)\n",
    "plt.show()"
   ]
  },
  {
   "cell_type": "code",
   "execution_count": 5,
   "id": "0965afa7-1570-4159-84d4-45837ec28aa6",
   "metadata": {
    "tags": []
   },
   "outputs": [],
   "source": [
    "from typing import Callable\n",
    "def sign(x: float) -> int:\n",
    "    if x > 0:\n",
    "        return 1\n",
    "    elif x < 0:\n",
    "        return -1\n",
    "    else:\n",
    "        return 0"
   ]
  },
  {
   "cell_type": "code",
   "execution_count": 7,
   "id": "6e4a7b4d-c33e-4a84-a283-0505c1c4c9ce",
   "metadata": {
    "tags": []
   },
   "outputs": [],
   "source": [
    "def bisection(\n",
    "    a: float, b: float, *, equation: Callable[[float], float], tol: float, N: int\n",
    ") -> tuple[float, float, float, int] | None:\n",
    "    i = 1\n",
    "    assert a < b, \"a not lower than b, the interval is not valid.\"\n",
    "\n",
    "    assert (equation(a) * equation(b) < 0), \"The function does not change sign over the interval.\"\n",
    "\n",
    "    Fa = equation(a)\n",
    "    p = a # to avoid crash in i == 0.\n",
    "    for i in range(1,N+1):\n",
    "        p = a + (b - a) / 2\n",
    "        FP = equation(p)\n",
    "        if FP == 0 or (b - a) / 2 < tol:\n",
    "            return p, a, b, i\n",
    "\n",
    "        if sign(Fa) * sign(FP) > 0:\n",
    "            a = p\n",
    "            Fa = FP\n",
    "        else:\n",
    "            b = p\n",
    "    print(\"Solución no encontrada, número de iteraciones insuficiente para la tolerancia dada.\")"
   ]
  },
  {
   "cell_type": "markdown",
   "id": "b182e1fd-ebf5-4f94-9c5a-9a7106f757d5",
   "metadata": {},
   "source": [
    "#### a)"
   ]
  },
  {
   "cell_type": "code",
   "execution_count": 13,
   "id": "c43697fd-e5b3-4ed8-8a6d-091523646d1c",
   "metadata": {
    "tags": []
   },
   "outputs": [
    {
     "name": "stdout",
     "output_type": "stream",
     "text": [
      "Al utilizar el rango [0,1], en la iteración n°: 7 se encontró que la raíz de f(x) dentro de la precisión de 1e-02 es: 0.5859375\n"
     ]
    }
   ],
   "source": [
    "a = 0\n",
    "b = 1\n",
    "tol = 10**(-2)\n",
    "result = bisection(a=a,b=b,equation=equation,tol=tol,N=20)\n",
    "print(\"Al utilizar el rango [\"+str(a)+\",\"+str(b)+\"], en la iteración n°: \"+str(result[3])+\" se encontró que la raíz de f(x)\"+\n",
    "      \" dentro de la precisión de \"+format(tol, \".0e\")+ \" es: \"+str(result[0])) "
   ]
  },
  {
   "cell_type": "markdown",
   "id": "21890a35-c39a-4bfe-9b3e-e0a3dd756721",
   "metadata": {},
   "source": [
    "#### b)"
   ]
  },
  {
   "cell_type": "code",
   "execution_count": 19,
   "id": "c72ac495-f23a-4a35-9a17-43636f64e786",
   "metadata": {
    "tags": []
   },
   "outputs": [
    {
     "name": "stdout",
     "output_type": "stream",
     "text": [
      "Al utilizar el rango [1,3.2], en la iteración n°: 8 se encontró que la raíz de f(x) dentro de la precisión de 1e-02 es: 3.0023\n"
     ]
    }
   ],
   "source": [
    "a = 1\n",
    "b = 3.2\n",
    "tol = 10**(-2)\n",
    "result = bisection(a=a,b=b,equation=equation,tol=tol,N=20)\n",
    "print(\"Al utilizar el rango [\"+str(a)+\",\"+str(b)+\"], en la iteración n°: \"+str(result[3])+\" se encontró que la raíz de f(x)\"+\n",
    "      \" dentro de la precisión de \"+format(tol, \".0e\")+ \" es: \"+format(result[0],\".5\")) "
   ]
  },
  {
   "cell_type": "markdown",
   "id": "647d3150-52ce-4bbf-b43e-e222f3ee3dc0",
   "metadata": {},
   "source": [
    "#### c)"
   ]
  },
  {
   "cell_type": "code",
   "execution_count": 17,
   "id": "9a5c153f-4cbb-4064-834b-01d1cf6099bf",
   "metadata": {
    "tags": []
   },
   "outputs": [
    {
     "name": "stdout",
     "output_type": "stream",
     "text": [
      "Al utilizar el rango [3.2,4], en la iteración n°: 7 se encontró que la raíz de f(x) dentro de la precisión de 1e-02 es: 3.41875\n"
     ]
    }
   ],
   "source": [
    "a = 3.2\n",
    "b = 4\n",
    "tol = 10**(-2)\n",
    "result = bisection(a=a,b=b,equation=equation,tol=tol,N=20)\n",
    "print(\"Al utilizar el rango [\"+str(a)+\",\"+str(b)+\"], en la iteración n°: \"+str(result[3])+\" se encontró que la raíz de f(x)\"+\n",
    "      \" dentro de la precisión de \"+format(tol, \".0e\")+ \" es: \"+str(result[0])) "
   ]
  },
  {
   "cell_type": "code",
   "execution_count": null,
   "id": "8b3beb3e-3dcf-41c5-83e2-df9164ffb317",
   "metadata": {},
   "outputs": [],
   "source": []
  }
 ],
 "metadata": {
  "kernelspec": {
   "display_name": "Python 3 (ipykernel)",
   "language": "python",
   "name": "python3"
  },
  "language_info": {
   "codemirror_mode": {
    "name": "ipython",
    "version": 3
   },
   "file_extension": ".py",
   "mimetype": "text/x-python",
   "name": "python",
   "nbconvert_exporter": "python",
   "pygments_lexer": "ipython3",
   "version": "3.11.7"
  }
 },
 "nbformat": 4,
 "nbformat_minor": 5
}
